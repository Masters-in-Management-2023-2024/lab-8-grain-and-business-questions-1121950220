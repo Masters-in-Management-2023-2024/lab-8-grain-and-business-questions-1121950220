{
  "nbformat": 4,
  "nbformat_minor": 0,
  "metadata": {
    "colab": {
      "provenance": []
    },
    "kernelspec": {
      "name": "python3",
      "display_name": "Python 3"
    },
    "language_info": {
      "name": "python"
    }
  },
  "cells": [
    {
      "cell_type": "code",
      "execution_count": 28,
      "metadata": {
        "colab": {
          "base_uri": "https://localhost:8080/"
        },
        "id": "TEK0BJ5E0F9M",
        "outputId": "c21cd3e2-30d5-402d-8ded-124cd5bd9897"
      },
      "outputs": [
        {
          "output_type": "stream",
          "name": "stdout",
          "text": [
            "Loading diamonds dataset...\n",
            "Dataset loaded successfully!\n",
            "\n",
            "Total records (rows): 6000\n",
            "Total fields (columns): 8\n",
            "\n",
            "A preview of the first few records:\n",
            "shape: (5, 8)\n",
            "┌──────────────┬───────┬───────┬─────────┬────────┬──────────┬────────┬───────┐\n",
            "│ Carat Weight ┆ Cut   ┆ Color ┆ Clarity ┆ Polish ┆ Symmetry ┆ Report ┆ Price │\n",
            "│ ---          ┆ ---   ┆ ---   ┆ ---     ┆ ---    ┆ ---      ┆ ---    ┆ ---   │\n",
            "│ f64          ┆ str   ┆ str   ┆ str     ┆ str    ┆ str      ┆ str    ┆ i64   │\n",
            "╞══════════════╪═══════╪═══════╪═════════╪════════╪══════════╪════════╪═══════╡\n",
            "│ 1.1          ┆ Ideal ┆ H     ┆ SI1     ┆ VG     ┆ EX       ┆ GIA    ┆ 5169  │\n",
            "│ 0.83         ┆ Ideal ┆ H     ┆ VS1     ┆ ID     ┆ ID       ┆ AGSL   ┆ 3470  │\n",
            "│ 0.85         ┆ Ideal ┆ H     ┆ SI1     ┆ EX     ┆ EX       ┆ GIA    ┆ 3183  │\n",
            "│ 0.91         ┆ Ideal ┆ E     ┆ SI1     ┆ VG     ┆ VG       ┆ GIA    ┆ 4370  │\n",
            "│ 0.83         ┆ Ideal ┆ G     ┆ SI1     ┆ EX     ┆ EX       ┆ GIA    ┆ 3171  │\n",
            "└──────────────┴───────┴───────┴─────────┴────────┴──────────┴────────┴───────┘\n"
          ]
        }
      ],
      "source": [
        "#1 import polars as pl\n",
        "\n",
        "# Load dataset\n",
        "print(\"Loading diamonds dataset...\")\n",
        "df = pl.read_csv(\"https://raw.githubusercontent.com/pycaret/pycaret/master/datasets/diamond.csv\")\n",
        "print(\"Dataset loaded successfully!\\n\")\n",
        "\n",
        "# ​​​ Check overall inventory size\n",
        "num_rows, num_columns = df.shape\n",
        "print(f\"Total records (rows): {num_rows}\")\n",
        "print(f\"Total fields (columns): {num_columns}\\n\")\n",
        "\n",
        "# ​​​ Optionally, view a few sample rows\n",
        "print(\"A preview of the first few records:\")\n",
        "print(df.head(5))"
      ]
    },
    {
      "cell_type": "code",
      "source": [
        "#2 import polars as pl\n",
        "\n",
        "df = pl.read_csv(\"https://raw.githubusercontent.com/pycaret/pycaret/master/datasets/diamond.csv\")\n",
        "print(\"Tracked characteristics (columns):\")\n",
        "print(df.columns)"
      ],
      "metadata": {
        "colab": {
          "base_uri": "https://localhost:8080/"
        },
        "id": "hxFkkuds0VCN",
        "outputId": "f1e37176-96a0-4d37-9f9f-a3a36970bd68"
      },
      "execution_count": 2,
      "outputs": [
        {
          "output_type": "stream",
          "name": "stdout",
          "text": [
            "Tracked characteristics (columns):\n",
            "['Carat Weight', 'Cut', 'Color', 'Clarity', 'Polish', 'Symmetry', 'Report', 'Price']\n"
          ]
        }
      ]
    },
    {
      "cell_type": "markdown",
      "source": [],
      "metadata": {
        "id": "RZKQQORv1ZMM"
      }
    },
    {
      "cell_type": "markdown",
      "source": [
        "Each row in your diamonds inventory database corresponds to one individual diamond in stock. Think of it like a diamond’s digital identity card: every diamond is described by multiple key attributes—covering its size, aesthetics, physical dimensions, and price."
      ],
      "metadata": {
        "id": "hPW22aZ_1eOS"
      }
    },
    {
      "cell_type": "code",
      "source": [],
      "metadata": {
        "colab": {
          "base_uri": "https://localhost:8080/",
          "height": 491
        },
        "id": "7bQTb-tg1D81",
        "outputId": "0846d83f-9152-4b12-b5de-76cbe725ff03"
      },
      "execution_count": 4,
      "outputs": [
        {
          "output_type": "stream",
          "name": "stdout",
          "text": [
            "Available columns: ['Carat Weight', 'Cut', 'Color', 'Clarity', 'Polish', 'Symmetry', 'Report', 'Price']\n",
            "Column 'carat' not found — check spelling or column cleanup.\n",
            "Column 'carat' not found in DataFrame.\n"
          ]
        },
        {
          "output_type": "stream",
          "name": "stderr",
          "text": [
            "/tmp/ipython-input-2474172862.py:19: DeprecationWarning: Accessing `ColumnNotFoundError` from the top-level `polars` module is deprecated. Import it directly from the `polars.exceptions` module instead: from polars.exceptions import ColumnNotFoundError\n",
            "  except pl.ColumnNotFoundError:\n"
          ]
        },
        {
          "output_type": "error",
          "ename": "ModuleNotFoundError",
          "evalue": "No module named 'janitor'",
          "traceback": [
            "\u001b[0;31m---------------------------------------------------------------------------\u001b[0m",
            "\u001b[0;31mModuleNotFoundError\u001b[0m                       Traceback (most recent call last)",
            "\u001b[0;32m/tmp/ipython-input-2474172862.py\u001b[0m in \u001b[0;36m<cell line: 0>\u001b[0;34m()\u001b[0m\n\u001b[1;32m     21\u001b[0m \u001b[0;34m\u001b[0m\u001b[0m\n\u001b[1;32m     22\u001b[0m \u001b[0;31m# 4. Optional: Clean names for consistency\u001b[0m\u001b[0;34m\u001b[0m\u001b[0;34m\u001b[0m\u001b[0m\n\u001b[0;32m---> 23\u001b[0;31m \u001b[0;32mimport\u001b[0m \u001b[0mjanitor\u001b[0m\u001b[0;34m.\u001b[0m\u001b[0mpolars\u001b[0m\u001b[0;34m\u001b[0m\u001b[0;34m\u001b[0m\u001b[0m\n\u001b[0m\u001b[1;32m     24\u001b[0m \u001b[0mdf\u001b[0m \u001b[0;34m=\u001b[0m \u001b[0mdf\u001b[0m\u001b[0;34m.\u001b[0m\u001b[0mclean_names\u001b[0m\u001b[0;34m(\u001b[0m\u001b[0mremove_special\u001b[0m\u001b[0;34m=\u001b[0m\u001b[0;32mTrue\u001b[0m\u001b[0;34m,\u001b[0m \u001b[0mcase_type\u001b[0m\u001b[0;34m=\u001b[0m\u001b[0;34m\"lower\"\u001b[0m\u001b[0;34m)\u001b[0m\u001b[0;34m\u001b[0m\u001b[0;34m\u001b[0m\u001b[0m\n\u001b[1;32m     25\u001b[0m \u001b[0mprint\u001b[0m\u001b[0;34m(\u001b[0m\u001b[0;34m\"Cleaned columns:\"\u001b[0m\u001b[0;34m,\u001b[0m \u001b[0mdf\u001b[0m\u001b[0;34m.\u001b[0m\u001b[0mcolumns\u001b[0m\u001b[0;34m)\u001b[0m\u001b[0;34m\u001b[0m\u001b[0;34m\u001b[0m\u001b[0m\n",
            "\u001b[0;31mModuleNotFoundError\u001b[0m: No module named 'janitor'",
            "",
            "\u001b[0;31m---------------------------------------------------------------------------\u001b[0;32m\nNOTE: If your import is failing due to a missing package, you can\nmanually install dependencies using either !pip or !apt.\n\nTo view examples of installing some common dependencies, click the\n\"Open Examples\" button below.\n\u001b[0;31m---------------------------------------------------------------------------\u001b[0m\n"
          ],
          "errorDetails": {
            "actions": [
              {
                "action": "open_url",
                "actionText": "Open Examples",
                "url": "/notebooks/snippets/importing_libraries.ipynb"
              }
            ]
          }
        }
      ]
    },
    {
      "cell_type": "code",
      "metadata": {
        "colab": {
          "base_uri": "https://localhost:8080/"
        },
        "id": "5155c898",
        "outputId": "cf79f26b-d8e8-47fe-f036-231afe58fa42"
      },
      "source": [
        "%pip install -q janitor polars"
      ],
      "execution_count": 5,
      "outputs": [
        {
          "output_type": "stream",
          "name": "stdout",
          "text": [
            "  Preparing metadata (setup.py) ... \u001b[?25l\u001b[?25hdone\n",
            "\u001b[2K     \u001b[90m━━━━━━━━━━━━━━━━━━━━━━━━━━━━━━━━━━━━━━━━\u001b[0m \u001b[32m44.4/44.4 kB\u001b[0m \u001b[31m1.5 MB/s\u001b[0m eta \u001b[36m0:00:00\u001b[0m\n",
            "\u001b[2K   \u001b[90m━━━━━━━━━━━━━━━━━━━━━━━━━━━━━━━━━━━━━━━━\u001b[0m \u001b[32m2.1/2.1 MB\u001b[0m \u001b[31m22.1 MB/s\u001b[0m eta \u001b[36m0:00:00\u001b[0m\n",
            "\u001b[2K   \u001b[90m━━━━━━━━━━━━━━━━━━━━━━━━━━━━━━━━━━━━━━━━\u001b[0m \u001b[32m259.8/259.8 kB\u001b[0m \u001b[31m21.7 MB/s\u001b[0m eta \u001b[36m0:00:00\u001b[0m\n",
            "\u001b[2K   \u001b[90m━━━━━━━━━━━━━━━━━━━━━━━━━━━━━━━━━━━━━━━━\u001b[0m \u001b[32m1.2/1.2 MB\u001b[0m \u001b[31m60.4 MB/s\u001b[0m eta \u001b[36m0:00:00\u001b[0m\n",
            "\u001b[?25h  Building wheel for janitor (setup.py) ... \u001b[?25l\u001b[?25hdone\n",
            "\u001b[31mERROR: pip's dependency resolver does not currently take into account all the packages that are installed. This behaviour is the source of the following dependency conflicts.\n",
            "ipython 7.34.0 requires jedi>=0.16, which is not installed.\u001b[0m\u001b[31m\n",
            "\u001b[0m"
          ]
        }
      ]
    },
    {
      "cell_type": "code",
      "metadata": {
        "colab": {
          "base_uri": "https://localhost:8080/"
        },
        "id": "ca923dde",
        "outputId": "38356659-cda0-42be-ec32-2c3a2194b618"
      },
      "source": [
        "#4 import polars as pl\n",
        "import janitor.polars\n",
        "\n",
        "# Load dataset\n",
        "df = pl.read_csv(\"https://raw.githubusercontent.com/pycaret/pycaret/master/datasets/diamond.csv\")\n",
        "\n",
        "# 1. Check existing columns\n",
        "print(\"Available columns:\", df.columns)\n",
        "\n",
        "# 2. Handle column safely\n",
        "col = df.get_column(\"Carat Weight\", default=None)\n",
        "if col is None:\n",
        "    print(\"Column 'Carat Weight' not found — check spelling or column cleanup.\")\n",
        "else:\n",
        "    print(\"Column 'Carat Weight' found — proceeding with analysis.\")\n",
        "\n",
        "# 3. Or catch explicitly:\n",
        "try:\n",
        "    df.select(\"Carat Weight\")\n",
        "    print(\"Successfully selected 'Carat Weight'.\")\n",
        "except pl.ColumnNotFoundError:\n",
        "    print(\"Column 'Carat Weight' not found in DataFrame.\")\n",
        "\n",
        "# 4. Optional: Clean names for consistency\n",
        "df = df.clean_names(remove_special=True, case_type=\"lower\")\n",
        "print(\"Cleaned columns:\", df.columns)"
      ],
      "execution_count": 7,
      "outputs": [
        {
          "output_type": "stream",
          "name": "stdout",
          "text": [
            "Available columns: ['Carat Weight', 'Cut', 'Color', 'Clarity', 'Polish', 'Symmetry', 'Report', 'Price']\n",
            "Column 'Carat Weight' found — proceeding with analysis.\n",
            "Successfully selected 'Carat Weight'.\n",
            "\n",
            "Total carats in inventory: 8007.120000000001\n",
            "Total weight in grams: 1601.42 g\n",
            "Total weight in kilograms: 1.601 kg\n"
          ]
        }
      ]
    },
    {
      "cell_type": "code",
      "source": [
        "#5 import polars as pl\n",
        "\n",
        "# Load the dataset\n",
        "df = pl.read_csv(\"https://raw.githubusercontent.com/pycaret/pycaret/master/datasets/diamond.csv\")\n",
        "\n",
        "# Confirm actual column names\n",
        "print(\"Columns available:\", df.columns)\n",
        "\n",
        "# Use the correct, case‑sensitive column name\n",
        "shape_col = \"Cut\"  # Adjusted to match your dataset exactly\n",
        "\n",
        "if shape_col in df.columns:\n",
        "    unique_shapes = df[shape_col].unique()\n",
        "    print(\"Unique diamond shapes (or cuts) in our inventory:\", unique_shapes)\n",
        "    print(f\"Total variety of cuts (distinct values): {unique_shapes.len()}\")\n",
        "else:\n",
        "    print(f\"Error: Column '{shape_col}' not found. Please check column naming or capitalization.\")"
      ],
      "metadata": {
        "colab": {
          "base_uri": "https://localhost:8080/"
        },
        "id": "WGTFb79E449W",
        "outputId": "e1e89476-95b2-4b97-d33b-f906c334d35a"
      },
      "execution_count": 9,
      "outputs": [
        {
          "output_type": "stream",
          "name": "stdout",
          "text": [
            "Columns available: ['Carat Weight', 'Cut', 'Color', 'Clarity', 'Polish', 'Symmetry', 'Report', 'Price']\n",
            "Unique diamond shapes (or cuts) in our inventory: shape: (5,)\n",
            "Series: 'Cut' [str]\n",
            "[\n",
            "\t\"Ideal\"\n",
            "\t\"Signature-Ideal\"\n",
            "\t\"Very Good\"\n",
            "\t\"Fair\"\n",
            "\t\"Good\"\n",
            "]\n",
            "Total variety of cuts (distinct values): 5\n"
          ]
        }
      ]
    },
    {
      "cell_type": "code",
      "source": [
        "#6 import polars as pl\n",
        "\n",
        "# Load the diamonds dataset\n",
        "df = pl.read_csv(\"https://raw.githubusercontent.com/pycaret/pycaret/master/datasets/diamond.csv\")\n",
        "\n",
        "# Confirm available columns (case-sensitive)\n",
        "print(\"Available columns:\", df.columns)\n",
        "\n",
        "# Most valuable diamond (highest price)\n",
        "most_expensive = df.sort(\"Price\", descending=True).head(1)\n",
        "print(\"Most valuable diamond:\")\n",
        "print(most_expensive)\n",
        "\n",
        "# Least valuable diamond (lowest price)\n",
        "least_expensive = df.sort(\"Price\", descending=False).head(1)\n",
        "print(\"Least valuable diamond:\")\n",
        "print(least_expensive)"
      ],
      "metadata": {
        "colab": {
          "base_uri": "https://localhost:8080/"
        },
        "id": "RfcqgUnX5bVa",
        "outputId": "be65259a-fd85-4ecd-bc67-7cf6c2b6fbc9"
      },
      "execution_count": 11,
      "outputs": [
        {
          "output_type": "stream",
          "name": "stdout",
          "text": [
            "Available columns: ['Carat Weight', 'Cut', 'Color', 'Clarity', 'Polish', 'Symmetry', 'Report', 'Price']\n",
            "Most valuable diamond:\n",
            "shape: (1, 8)\n",
            "┌──────────────┬───────┬───────┬─────────┬────────┬──────────┬────────┬────────┐\n",
            "│ Carat Weight ┆ Cut   ┆ Color ┆ Clarity ┆ Polish ┆ Symmetry ┆ Report ┆ Price  │\n",
            "│ ---          ┆ ---   ┆ ---   ┆ ---     ┆ ---    ┆ ---      ┆ ---    ┆ ---    │\n",
            "│ f64          ┆ str   ┆ str   ┆ str     ┆ str    ┆ str      ┆ str    ┆ i64    │\n",
            "╞══════════════╪═══════╪═══════╪═════════╪════════╪══════════╪════════╪════════╡\n",
            "│ 2.79         ┆ Ideal ┆ D     ┆ IF      ┆ EX     ┆ EX       ┆ GIA    ┆ 101561 │\n",
            "└──────────────┴───────┴───────┴─────────┴────────┴──────────┴────────┴────────┘\n",
            "Least valuable diamond:\n",
            "shape: (1, 8)\n",
            "┌──────────────┬──────┬───────┬─────────┬────────┬──────────┬────────┬───────┐\n",
            "│ Carat Weight ┆ Cut  ┆ Color ┆ Clarity ┆ Polish ┆ Symmetry ┆ Report ┆ Price │\n",
            "│ ---          ┆ ---  ┆ ---   ┆ ---     ┆ ---    ┆ ---      ┆ ---    ┆ ---   │\n",
            "│ f64          ┆ str  ┆ str   ┆ str     ┆ str    ┆ str      ┆ str    ┆ i64   │\n",
            "╞══════════════╪══════╪═══════╪═════════╪════════╪══════════╪════════╪═══════╡\n",
            "│ 0.77         ┆ Good ┆ I     ┆ VS1     ┆ VG     ┆ G        ┆ AGSL   ┆ 2184  │\n",
            "└──────────────┴──────┴───────┴─────────┴────────┴──────────┴────────┴───────┘\n"
          ]
        }
      ]
    },
    {
      "cell_type": "code",
      "source": [
        "7# import polars as pl\n",
        "\n",
        "# Load the dataset\n",
        "df = pl.read_csv(\"https://raw.githubusercontent.com/pycaret/pycaret/master/datasets/diamond.csv\")\n",
        "\n",
        "# Confirm available columns\n",
        "print(\"Available columns:\", df.columns)\n",
        "\n",
        "# Get the most valuable diamond\n",
        "most_expensive = df.sort(\"Price\", descending=True).head(1)\n",
        "print(\"Most valuable diamond:\")\n",
        "print(most_expensive)\n",
        "\n",
        "# Get the least valuable diamond\n",
        "least_expensive = df.sort(\"Price\", descending=False).head(1)\n",
        "print(\"Least valuable diamond:\")\n",
        "print(least_expensive)"
      ],
      "metadata": {
        "colab": {
          "base_uri": "https://localhost:8080/"
        },
        "id": "uUQjGE7Z6BQ2",
        "outputId": "3c01beb3-e4cb-4c28-9913-ca96ef244096"
      },
      "execution_count": 30,
      "outputs": [
        {
          "output_type": "stream",
          "name": "stdout",
          "text": [
            "Available columns: ['Carat Weight', 'Cut', 'Color', 'Clarity', 'Polish', 'Symmetry', 'Report', 'Price']\n",
            "Most valuable diamond:\n",
            "shape: (1, 8)\n",
            "┌──────────────┬───────┬───────┬─────────┬────────┬──────────┬────────┬────────┐\n",
            "│ Carat Weight ┆ Cut   ┆ Color ┆ Clarity ┆ Polish ┆ Symmetry ┆ Report ┆ Price  │\n",
            "│ ---          ┆ ---   ┆ ---   ┆ ---     ┆ ---    ┆ ---      ┆ ---    ┆ ---    │\n",
            "│ f64          ┆ str   ┆ str   ┆ str     ┆ str    ┆ str      ┆ str    ┆ i64    │\n",
            "╞══════════════╪═══════╪═══════╪═════════╪════════╪══════════╪════════╪════════╡\n",
            "│ 2.79         ┆ Ideal ┆ D     ┆ IF      ┆ EX     ┆ EX       ┆ GIA    ┆ 101561 │\n",
            "└──────────────┴───────┴───────┴─────────┴────────┴──────────┴────────┴────────┘\n",
            "Least valuable diamond:\n",
            "shape: (1, 8)\n",
            "┌──────────────┬──────┬───────┬─────────┬────────┬──────────┬────────┬───────┐\n",
            "│ Carat Weight ┆ Cut  ┆ Color ┆ Clarity ┆ Polish ┆ Symmetry ┆ Report ┆ Price │\n",
            "│ ---          ┆ ---  ┆ ---   ┆ ---     ┆ ---    ┆ ---      ┆ ---    ┆ ---   │\n",
            "│ f64          ┆ str  ┆ str   ┆ str     ┆ str    ┆ str      ┆ str    ┆ i64   │\n",
            "╞══════════════╪══════╪═══════╪═════════╪════════╪══════════╪════════╪═══════╡\n",
            "│ 0.77         ┆ Good ┆ I     ┆ VS1     ┆ VG     ┆ G        ┆ AGSL   ┆ 2184  │\n",
            "└──────────────┴──────┴───────┴─────────┴────────┴──────────┴────────┴───────┘\n"
          ]
        }
      ]
    },
    {
      "cell_type": "code",
      "source": [
        "8# import polars as pl\n",
        "\n",
        "# Load the diamonds dataset\n",
        "df = pl.read_csv(\"https://raw.githubusercontent.com/pycaret/pycaret/master/datasets/diamond.csv\")\n",
        "\n",
        "# Verify available columns to ensure correct case-sensitive usage\n",
        "print(\"Available columns:\", df.columns)\n",
        "\n",
        "# Group by 'Cut', 'Color', and 'Report', and calculate the required statistics\n",
        "diamond_stats = (\n",
        "    df.group_by([\"Cut\", \"Color\", \"Report\"])\n",
        "    .agg([\n",
        "        pl.count().alias(\"Diamond Count\"),\n",
        "        pl.col(\"Price\").mean().alias(\"Avg Price per Carat\"),\n",
        "        pl.col(\"Carat Weight\").sum().alias(\"Total Carats\")\n",
        "    ])\n",
        "    .sort(\"Avg Price per Carat\", descending=True)\n",
        ")\n",
        "\n",
        "# Display the statistics\n",
        "print(\"Diamond Characteristics Breakdown:\")\n",
        "print(diamond_stats)"
      ],
      "metadata": {
        "colab": {
          "base_uri": "https://localhost:8080/"
        },
        "id": "da5Q2MmW71yl",
        "outputId": "fa57970f-38dd-44db-c719-3903a2d58e2b"
      },
      "execution_count": 29,
      "outputs": [
        {
          "output_type": "stream",
          "name": "stdout",
          "text": [
            "Available columns: ['Carat Weight', 'Cut', 'Color', 'Clarity', 'Polish', 'Symmetry', 'Report', 'Price']\n",
            "Diamond Characteristics Breakdown:\n",
            "shape: (58, 6)\n",
            "┌─────────────────┬───────┬────────┬───────────────┬─────────────────────┬──────────────┐\n",
            "│ Cut             ┆ Color ┆ Report ┆ Diamond Count ┆ Avg Price per Carat ┆ Total Carats │\n",
            "│ ---             ┆ ---   ┆ ---    ┆ ---           ┆ ---                 ┆ ---          │\n",
            "│ str             ┆ str   ┆ str    ┆ u32           ┆ f64                 ┆ f64          │\n",
            "╞═════════════════╪═══════╪════════╪═══════════════╪═════════════════════╪══════════════╡\n",
            "│ Ideal           ┆ D     ┆ AGSL   ┆ 23            ┆ 22365.826087        ┆ 32.02        │\n",
            "│ Signature-Ideal ┆ D     ┆ GIA    ┆ 10            ┆ 21750.9             ┆ 12.66        │\n",
            "│ Signature-Ideal ┆ D     ┆ AGSL   ┆ 20            ┆ 18859.2             ┆ 26.41        │\n",
            "│ Signature-Ideal ┆ F     ┆ AGSL   ┆ 17            ┆ 18712.0             ┆ 23.81        │\n",
            "│ Ideal           ┆ D     ┆ GIA    ┆ 257           ┆ 18112.579767        ┆ 340.82       │\n",
            "│ …               ┆ …     ┆ …      ┆ …             ┆ …                   ┆ …            │\n",
            "│ Fair            ┆ E     ┆ GIA    ┆ 30            ┆ 5287.033333         ┆ 29.68        │\n",
            "│ Good            ┆ E     ┆ AGSL   ┆ 1             ┆ 5272.0              ┆ 0.95         │\n",
            "│ Fair            ┆ F     ┆ AGSL   ┆ 3             ┆ 4918.666667         ┆ 2.62         │\n",
            "│ Fair            ┆ I     ┆ GIA    ┆ 16            ┆ 4573.1875           ┆ 16.86        │\n",
            "│ Fair            ┆ G     ┆ AGSL   ┆ 3             ┆ 3783.333333         ┆ 2.73         │\n",
            "└─────────────────┴───────┴────────┴───────────────┴─────────────────────┴──────────────┘\n"
          ]
        },
        {
          "output_type": "stream",
          "name": "stderr",
          "text": [
            "/tmp/ipython-input-2771036999.py:13: DeprecationWarning: `pl.count()` is deprecated. Please use `pl.len()` instead.\n",
            "  pl.count().alias(\"Diamond Count\"),\n"
          ]
        }
      ]
    },
    {
      "cell_type": "code",
      "source": [
        "#9 import polars as pl\n",
        "\n",
        "# Load your diamonds dataset\n",
        "df = pl.read_csv(\"https://raw.githubusercontent.com/pycaret/pycaret/master/datasets/diamond.csv\")\n",
        "\n",
        "# Group by 'Cut' and 'Color' and aggregate the required metrics\n",
        "cut_color_pricing = (\n",
        "    df.group_by([\"Cut\", \"Color\"])\n",
        "    .agg([\n",
        "        pl.count().alias(\"Diamond Count\"),\n",
        "        pl.col(\"Price\").mean().alias(\"Avg Price per Carat\"),\n",
        "        pl.col(\"Carat Weight\").sum().alias(\"Total Carats\")\n",
        "    ])\n",
        "    .sort(\"Avg Price per Carat\", descending=True)\n",
        ")\n",
        "\n",
        "# Display the results\n",
        "print(cut_color_pricing)"
      ],
      "metadata": {
        "colab": {
          "base_uri": "https://localhost:8080/"
        },
        "id": "knee80ZP-NDZ",
        "outputId": "aa5741e8-579d-4754-a05c-6ebcd795da5f"
      },
      "execution_count": 24,
      "outputs": [
        {
          "output_type": "stream",
          "name": "stdout",
          "text": [
            "shape: (30, 5)\n",
            "┌─────────────────┬───────┬───────────────┬─────────────────────┬──────────────┐\n",
            "│ Cut             ┆ Color ┆ Diamond Count ┆ Avg Price per Carat ┆ Total Carats │\n",
            "│ ---             ┆ ---   ┆ ---           ┆ ---                 ┆ ---          │\n",
            "│ str             ┆ str   ┆ u32           ┆ f64                 ┆ f64          │\n",
            "╞═════════════════╪═══════╪═══════════════╪═════════════════════╪══════════════╡\n",
            "│ Signature-Ideal ┆ D     ┆ 30            ┆ 19823.1             ┆ 39.07        │\n",
            "│ Ideal           ┆ D     ┆ 280           ┆ 18461.953571        ┆ 372.84       │\n",
            "│ Ideal           ┆ F     ┆ 363           ┆ 14729.426997        ┆ 502.01       │\n",
            "│ Ideal           ┆ G     ┆ 690           ┆ 13570.310145        ┆ 966.9        │\n",
            "│ Signature-Ideal ┆ F     ┆ 38            ┆ 13247.947368        ┆ 45.63        │\n",
            "│ …               ┆ …     ┆ …             ┆ …                   ┆ …            │\n",
            "│ Fair            ┆ F     ┆ 24            ┆ 6063.625            ┆ 24.2         │\n",
            "│ Fair            ┆ D     ┆ 12            ┆ 6058.25             ┆ 12.46        │\n",
            "│ Fair            ┆ H     ┆ 24            ┆ 5908.5              ┆ 27.03        │\n",
            "│ Fair            ┆ E     ┆ 32            ┆ 5370.625            ┆ 32.0         │\n",
            "│ Fair            ┆ I     ┆ 16            ┆ 4573.1875           ┆ 16.86        │\n",
            "└─────────────────┴───────┴───────────────┴─────────────────────┴──────────────┘\n"
          ]
        }
      ]
    },
    {
      "cell_type": "code",
      "metadata": {
        "colab": {
          "base_uri": "https://localhost:8080/"
        },
        "id": "50fd3325",
        "outputId": "43301249-1586-424a-8496-76f5186c827c"
      },
      "source": [
        "#10 Certainly! Let's address the issues you've encountered with the code for Question 10.\n",
        "\n",
        "# Load your diamonds dataset\n",
        "df = pl.read_csv(\"https://raw.githubusercontent.com/pycaret/pycaret/master/datasets/diamond.csv\")\n",
        "\n",
        "# Calculate total value for each segment\n",
        "df = df.with_columns(\n",
        "    (pl.col(\"Price\") * pl.col(\"Carat Weight\")).alias(\"Total Value\")\n",
        ")\n",
        "\n",
        "# Group by 'Color' and 'Cut' and aggregate the required metrics\n",
        "top_segments = (\n",
        "    df.group_by([\"Color\", \"Cut\"])\n",
        "    .agg([\n",
        "        pl.len().alias(\"Diamond Count\"),\n",
        "        pl.col(\"Total Value\").sum().alias(\"Total Value\"),\n",
        "        pl.col(\"Carat Weight\").sum().alias(\"Total Carats\")\n",
        "    ])\n",
        "    .sort(\"Total Value\", descending=True)\n",
        "    .limit(5)\n",
        ")\n",
        "\n",
        "# Display the top 5 segments\n",
        "print(top_segments)"
      ],
      "execution_count": 27,
      "outputs": [
        {
          "output_type": "stream",
          "name": "stdout",
          "text": [
            "shape: (5, 5)\n",
            "┌───────┬───────────┬───────────────┬─────────────┬──────────────┐\n",
            "│ Color ┆ Cut       ┆ Diamond Count ┆ Total Value ┆ Total Carats │\n",
            "│ ---   ┆ ---       ┆ ---           ┆ ---         ┆ ---          │\n",
            "│ str   ┆ str       ┆ u32           ┆ f64         ┆ f64          │\n",
            "╞═══════╪═══════════╪═══════════════╪═════════════╪══════════════╡\n",
            "│ G     ┆ Ideal     ┆ 690           ┆ 1.6031e7    ┆ 966.9        │\n",
            "│ G     ┆ Very Good ┆ 578           ┆ 1.2335e7    ┆ 795.4        │\n",
            "│ F     ┆ Very Good ┆ 455           ┆ 9.4719e6    ┆ 592.77       │\n",
            "│ D     ┆ Ideal     ┆ 280           ┆ 9.4040e6    ┆ 372.84       │\n",
            "│ H     ┆ Ideal     ┆ 458           ┆ 9.2436e6    ┆ 653.15       │\n",
            "└───────┴───────────┴───────────────┴─────────────┴──────────────┘\n"
          ]
        }
      ]
    }
  ]
}